{
  "nbformat": 4,
  "nbformat_minor": 0,
  "metadata": {
    "colab": {
      "name": "Cópia de GeneralizacaoTitanic.ipynb",
      "provenance": [],
      "authorship_tag": "ABX9TyPgmgvstm4Cz2AWH2H9oH9E",
      "include_colab_link": true
    },
    "kernelspec": {
      "name": "python3",
      "display_name": "Python 3"
    }
  },
  "cells": [
    {
      "cell_type": "markdown",
      "metadata": {
        "id": "view-in-github",
        "colab_type": "text"
      },
      "source": [
        "<a href=\"https://colab.research.google.com/github/israellmorais/ASCII-generator/blob/master/GeneralizacaoTitanic3.ipynb\" target=\"_parent\"><img src=\"https://colab.research.google.com/assets/colab-badge.svg\" alt=\"Open In Colab\"/></a>"
      ]
    },
    {
      "cell_type": "code",
      "metadata": {
        "id": "iVHP_Rrayc0e"
      },
      "source": [
        "import pandas as pd\r\n",
        "\r\n",
        "train = pd.read_csv('/content/train.csv')\r\n",
        "test = pd.read_csv('/content/test.csv')\r\n",
        "X = train[list(test.columns)]\r\n",
        "y = train[train.columns[~train.columns.isin(test.columns)]]"
      ],
      "execution_count": 1,
      "outputs": []
    },
    {
      "cell_type": "code",
      "metadata": {
        "colab": {
          "base_uri": "https://localhost:8080/"
        },
        "id": "_C48i2lHY0NX",
        "outputId": "82fdce7b-5034-4243-f8a1-9ae4367f009d"
      },
      "source": [
        "X.info()"
      ],
      "execution_count": 2,
      "outputs": [
        {
          "output_type": "stream",
          "text": [
            "<class 'pandas.core.frame.DataFrame'>\n",
            "RangeIndex: 891 entries, 0 to 890\n",
            "Data columns (total 11 columns):\n",
            " #   Column       Non-Null Count  Dtype  \n",
            "---  ------       --------------  -----  \n",
            " 0   PassengerId  891 non-null    int64  \n",
            " 1   Pclass       891 non-null    int64  \n",
            " 2   Name         891 non-null    object \n",
            " 3   Sex          891 non-null    object \n",
            " 4   Age          714 non-null    float64\n",
            " 5   SibSp        891 non-null    int64  \n",
            " 6   Parch        891 non-null    int64  \n",
            " 7   Ticket       891 non-null    object \n",
            " 8   Fare         891 non-null    float64\n",
            " 9   Cabin        204 non-null    object \n",
            " 10  Embarked     889 non-null    object \n",
            "dtypes: float64(2), int64(4), object(5)\n",
            "memory usage: 76.7+ KB\n"
          ],
          "name": "stdout"
        }
      ]
    },
    {
      "cell_type": "code",
      "metadata": {
        "id": "Jsa8ivUayj7Q"
      },
      "source": [
        "from sklearn.base import BaseEstimator, TransformerMixin\r\n",
        "\r\n",
        "def extraiPronome(nome):\r\n",
        "    return nome.split(',')[1].split('.')[0].strip()\r\n",
        "\r\n",
        "class AtributosDesejados(BaseEstimator, TransformerMixin):\r\n",
        "    def __init__(self, excluirName=True):\r\n",
        "        self.excluirName = excluirName\r\n",
        "    def fit(self, X, y=None):\r\n",
        "        self.colunasIndesejadas = ['PassengerId', 'Ticket', 'Cabin', 'Name', 'Embarked']\r\n",
        "        if self.excluirName:\r\n",
        "            self.colunasIndesejadas.append('Name')\r\n",
        "        return self\r\n",
        "    def transform(self, X, y=None):\r\n",
        "        Xdrop = X.drop(self.colunasIndesejadas,axis=1)\r\n",
        "        if 'Name' not in self.colunasIndesejadas:\r\n",
        "            Xdrop['Name'] = Xdrop['Name'].apply(extraiPronome)\r\n",
        "        return Xdrop"
      ],
      "execution_count": 14,
      "outputs": []
    },
    {
      "cell_type": "code",
      "metadata": {
        "id": "NmknKxRuym_-"
      },
      "source": [
        "from sklearn.base import BaseEstimator, TransformerMixin\r\n",
        "\r\n",
        "class AtributosNumericos(BaseEstimator, TransformerMixin):\r\n",
        "    def fit(self, X, y=None):\r\n",
        "        self.colunasNumericas = X.select_dtypes(include='number').columns\r\n",
        "        return self\r\n",
        "    def transform(self, X, y=None):\r\n",
        "        return X[self.colunasNumericas].to_numpy()"
      ],
      "execution_count": 4,
      "outputs": []
    },
    {
      "cell_type": "code",
      "metadata": {
        "id": "euif1PsFyqai"
      },
      "source": [
        "from sklearn.base import BaseEstimator, TransformerMixin\r\n",
        "\r\n",
        "class AtributosCategoricos(BaseEstimator, TransformerMixin):\r\n",
        "    def fit(self, X, y=None):\r\n",
        "        self.colunasCategoricas = X.select_dtypes(include='object').columns\r\n",
        "        return self\r\n",
        "    def transform(self, X, y=None):\r\n",
        "        return X[self.colunasCategoricas].to_numpy()"
      ],
      "execution_count": 5,
      "outputs": []
    },
    {
      "cell_type": "code",
      "metadata": {
        "id": "X2TBB_9FysTW"
      },
      "source": [
        "from sklearn.impute import SimpleImputer\r\n",
        "from sklearn.preprocessing import OneHotEncoder, StandardScaler\r\n",
        "from sklearn.pipeline import Pipeline, FeatureUnion\r\n",
        "\r\n",
        "trataAtributos = Pipeline([\r\n",
        "    ('unecaracteristicas', FeatureUnion([\r\n",
        "        ('pipenum', Pipeline([\r\n",
        "            ('atributos_numericos', AtributosNumericos()),\r\n",
        "            ('imputer', SimpleImputer(strategy='median')),\r\n",
        "            ('scaler', StandardScaler())\r\n",
        "        ])),\r\n",
        "        ('pipecat', Pipeline([\r\n",
        "            ('atributos_categoricos', AtributosCategoricos()),\r\n",
        "            ('imputer', SimpleImputer(strategy='most_frequent')),\r\n",
        "            ('encoder', OneHotEncoder(handle_unknown='ignore'))\r\n",
        "        ]))\r\n",
        "    ])),\r\n",
        "])"
      ],
      "execution_count": 6,
      "outputs": []
    },
    {
      "cell_type": "code",
      "metadata": {
        "colab": {
          "base_uri": "https://localhost:8080/"
        },
        "id": "9vlhRuKPyvEs",
        "outputId": "0e421fc5-d8e7-49c1-912d-b696789711e1"
      },
      "source": [
        "from sklearn.ensemble import RandomForestClassifier\r\n",
        "from sklearn.model_selection import GridSearchCV, cross_validate, RepeatedKFold\r\n",
        "import numpy as np\r\n",
        "from sklearn.metrics import fbeta_score, make_scorer\r\n",
        "from sklearn.metrics import recall_score\r\n",
        "from sklearn.calibration import CalibratedClassifierCV\r\n",
        "from sklearn.ensemble import RandomForestClassifier\r\n",
        "from sklearn.datasets import make_moons\r\n",
        "from sklearn.ensemble import GradientBoostingClassifier\r\n",
        "from xgboost import XGBClassifier\r\n",
        "from sklearn.tree import DecisionTreeClassifier\r\n",
        "from sklearn.neighbors import KNeighborsClassifier\r\n",
        "from sklearn.ensemble import RandomForestRegressor\r\n",
        "\r\n",
        "ftwo_scorer = make_scorer(fbeta_score, beta=2)\r\n",
        "\r\n",
        "pipetotal = Pipeline([\r\n",
        "    ('atributosDesejados', AtributosDesejados()),\r\n",
        "    ('trataAtributos', trataAtributos),\r\n",
        "    #('classificador', RandomForestClassifier(random_state=42, max_features='auto', n_estimators= 200, max_depth=8, criterion='gini'))\r\n",
        "    #('classificador', RandomForestClassifier(random_state=42))\r\n",
        "    ('classificador', GradientBoostingClassifier())\r\n",
        "    #('classificador', XGBClassifier(learning_rate =1,  n_estimators=1000,  max_depth=5, min_child_weight=1, gamma=0, subsample=0.8, colsample_bytree=0.8, objective= 'binary:logistic', nthread=4, scale_pos_weight=1,  seed=27)) #obteve 82.99 #com CV no Cross de 20 deu 83.5\r\n",
        "    #('classificador', DecisionTreeClassifier(random_state=0)) #obteve 81.55\r\n",
        "    #('classificador', KNeighborsClassifier())\r\n",
        "])\r\n",
        "\r\n",
        "\r\n",
        "parametros = {\r\n",
        "    'atributosDesejados__excluirName': [True, False],\r\n",
        "    'classificador__max_depth': [5]\r\n",
        "    \r\n",
        "}\r\n",
        "\r\n",
        "\r\n",
        "modelo = GridSearchCV(pipetotal, param_grid=parametros, n_jobs=-1)\r\n",
        "\r\n",
        "scores = cross_validate(modelo, X, y, cv=25)\r\n",
        "scores['test_score'], np.mean(scores['test_score']), np.std(scores['test_score'])"
      ],
      "execution_count": 15,
      "outputs": [
        {
          "output_type": "stream",
          "text": [
            "/usr/local/lib/python3.7/dist-packages/sklearn/ensemble/_gb.py:1454: DataConversionWarning: A column-vector y was passed when a 1d array was expected. Please change the shape of y to (n_samples, ), for example using ravel().\n",
            "  y = column_or_1d(y, warn=True)\n",
            "/usr/local/lib/python3.7/dist-packages/sklearn/ensemble/_gb.py:1454: DataConversionWarning: A column-vector y was passed when a 1d array was expected. Please change the shape of y to (n_samples, ), for example using ravel().\n",
            "  y = column_or_1d(y, warn=True)\n",
            "/usr/local/lib/python3.7/dist-packages/sklearn/ensemble/_gb.py:1454: DataConversionWarning: A column-vector y was passed when a 1d array was expected. Please change the shape of y to (n_samples, ), for example using ravel().\n",
            "  y = column_or_1d(y, warn=True)\n",
            "/usr/local/lib/python3.7/dist-packages/sklearn/ensemble/_gb.py:1454: DataConversionWarning: A column-vector y was passed when a 1d array was expected. Please change the shape of y to (n_samples, ), for example using ravel().\n",
            "  y = column_or_1d(y, warn=True)\n",
            "/usr/local/lib/python3.7/dist-packages/sklearn/ensemble/_gb.py:1454: DataConversionWarning: A column-vector y was passed when a 1d array was expected. Please change the shape of y to (n_samples, ), for example using ravel().\n",
            "  y = column_or_1d(y, warn=True)\n",
            "/usr/local/lib/python3.7/dist-packages/sklearn/ensemble/_gb.py:1454: DataConversionWarning: A column-vector y was passed when a 1d array was expected. Please change the shape of y to (n_samples, ), for example using ravel().\n",
            "  y = column_or_1d(y, warn=True)\n",
            "/usr/local/lib/python3.7/dist-packages/sklearn/ensemble/_gb.py:1454: DataConversionWarning: A column-vector y was passed when a 1d array was expected. Please change the shape of y to (n_samples, ), for example using ravel().\n",
            "  y = column_or_1d(y, warn=True)\n",
            "/usr/local/lib/python3.7/dist-packages/sklearn/ensemble/_gb.py:1454: DataConversionWarning: A column-vector y was passed when a 1d array was expected. Please change the shape of y to (n_samples, ), for example using ravel().\n",
            "  y = column_or_1d(y, warn=True)\n",
            "/usr/local/lib/python3.7/dist-packages/sklearn/ensemble/_gb.py:1454: DataConversionWarning: A column-vector y was passed when a 1d array was expected. Please change the shape of y to (n_samples, ), for example using ravel().\n",
            "  y = column_or_1d(y, warn=True)\n",
            "/usr/local/lib/python3.7/dist-packages/sklearn/ensemble/_gb.py:1454: DataConversionWarning: A column-vector y was passed when a 1d array was expected. Please change the shape of y to (n_samples, ), for example using ravel().\n",
            "  y = column_or_1d(y, warn=True)\n",
            "/usr/local/lib/python3.7/dist-packages/sklearn/ensemble/_gb.py:1454: DataConversionWarning: A column-vector y was passed when a 1d array was expected. Please change the shape of y to (n_samples, ), for example using ravel().\n",
            "  y = column_or_1d(y, warn=True)\n",
            "/usr/local/lib/python3.7/dist-packages/sklearn/ensemble/_gb.py:1454: DataConversionWarning: A column-vector y was passed when a 1d array was expected. Please change the shape of y to (n_samples, ), for example using ravel().\n",
            "  y = column_or_1d(y, warn=True)\n",
            "/usr/local/lib/python3.7/dist-packages/sklearn/ensemble/_gb.py:1454: DataConversionWarning: A column-vector y was passed when a 1d array was expected. Please change the shape of y to (n_samples, ), for example using ravel().\n",
            "  y = column_or_1d(y, warn=True)\n",
            "/usr/local/lib/python3.7/dist-packages/sklearn/ensemble/_gb.py:1454: DataConversionWarning: A column-vector y was passed when a 1d array was expected. Please change the shape of y to (n_samples, ), for example using ravel().\n",
            "  y = column_or_1d(y, warn=True)\n",
            "/usr/local/lib/python3.7/dist-packages/sklearn/ensemble/_gb.py:1454: DataConversionWarning: A column-vector y was passed when a 1d array was expected. Please change the shape of y to (n_samples, ), for example using ravel().\n",
            "  y = column_or_1d(y, warn=True)\n",
            "/usr/local/lib/python3.7/dist-packages/sklearn/ensemble/_gb.py:1454: DataConversionWarning: A column-vector y was passed when a 1d array was expected. Please change the shape of y to (n_samples, ), for example using ravel().\n",
            "  y = column_or_1d(y, warn=True)\n",
            "/usr/local/lib/python3.7/dist-packages/sklearn/ensemble/_gb.py:1454: DataConversionWarning: A column-vector y was passed when a 1d array was expected. Please change the shape of y to (n_samples, ), for example using ravel().\n",
            "  y = column_or_1d(y, warn=True)\n",
            "/usr/local/lib/python3.7/dist-packages/sklearn/ensemble/_gb.py:1454: DataConversionWarning: A column-vector y was passed when a 1d array was expected. Please change the shape of y to (n_samples, ), for example using ravel().\n",
            "  y = column_or_1d(y, warn=True)\n",
            "/usr/local/lib/python3.7/dist-packages/sklearn/ensemble/_gb.py:1454: DataConversionWarning: A column-vector y was passed when a 1d array was expected. Please change the shape of y to (n_samples, ), for example using ravel().\n",
            "  y = column_or_1d(y, warn=True)\n",
            "/usr/local/lib/python3.7/dist-packages/sklearn/ensemble/_gb.py:1454: DataConversionWarning: A column-vector y was passed when a 1d array was expected. Please change the shape of y to (n_samples, ), for example using ravel().\n",
            "  y = column_or_1d(y, warn=True)\n",
            "/usr/local/lib/python3.7/dist-packages/sklearn/ensemble/_gb.py:1454: DataConversionWarning: A column-vector y was passed when a 1d array was expected. Please change the shape of y to (n_samples, ), for example using ravel().\n",
            "  y = column_or_1d(y, warn=True)\n",
            "/usr/local/lib/python3.7/dist-packages/sklearn/ensemble/_gb.py:1454: DataConversionWarning: A column-vector y was passed when a 1d array was expected. Please change the shape of y to (n_samples, ), for example using ravel().\n",
            "  y = column_or_1d(y, warn=True)\n",
            "/usr/local/lib/python3.7/dist-packages/sklearn/ensemble/_gb.py:1454: DataConversionWarning: A column-vector y was passed when a 1d array was expected. Please change the shape of y to (n_samples, ), for example using ravel().\n",
            "  y = column_or_1d(y, warn=True)\n",
            "/usr/local/lib/python3.7/dist-packages/sklearn/ensemble/_gb.py:1454: DataConversionWarning: A column-vector y was passed when a 1d array was expected. Please change the shape of y to (n_samples, ), for example using ravel().\n",
            "  y = column_or_1d(y, warn=True)\n",
            "/usr/local/lib/python3.7/dist-packages/sklearn/ensemble/_gb.py:1454: DataConversionWarning: A column-vector y was passed when a 1d array was expected. Please change the shape of y to (n_samples, ), for example using ravel().\n",
            "  y = column_or_1d(y, warn=True)\n"
          ],
          "name": "stderr"
        },
        {
          "output_type": "execute_result",
          "data": {
            "text/plain": [
              "(array([0.77777778, 0.88888889, 0.83333333, 0.77777778, 0.83333333,\n",
              "        0.75      , 0.80555556, 0.77777778, 0.88888889, 0.91666667,\n",
              "        0.86111111, 0.91666667, 0.88888889, 0.88888889, 0.80555556,\n",
              "        0.72222222, 0.88571429, 0.88571429, 0.77142857, 0.82857143,\n",
              "        0.88571429, 0.88571429, 0.82857143, 0.77142857, 0.94285714]),\n",
              " 0.8407619047619047,\n",
              " 0.05878756525123576)"
            ]
          },
          "metadata": {
            "tags": []
          },
          "execution_count": 15
        }
      ]
    },
    {
      "cell_type": "code",
      "metadata": {
        "colab": {
          "base_uri": "https://localhost:8080/"
        },
        "id": "Q8drlBBRyycA",
        "outputId": "a98d2cc9-ea39-4602-9ff8-c8e9fbf42db4"
      },
      "source": [
        "modelo.fit(X,y)\r\n",
        "y_pred = modelo.predict(test)\r\n",
        "result = test[['PassengerId']]\r\n",
        "result['Survived'] = y_pred\r\n",
        "result.to_csv('submission.csv',index=False)"
      ],
      "execution_count": 11,
      "outputs": [
        {
          "output_type": "stream",
          "text": [
            "/usr/local/lib/python3.7/dist-packages/sklearn/ensemble/_gb.py:1454: DataConversionWarning: A column-vector y was passed when a 1d array was expected. Please change the shape of y to (n_samples, ), for example using ravel().\n",
            "  y = column_or_1d(y, warn=True)\n",
            "/usr/local/lib/python3.7/dist-packages/ipykernel_launcher.py:4: SettingWithCopyWarning: \n",
            "A value is trying to be set on a copy of a slice from a DataFrame.\n",
            "Try using .loc[row_indexer,col_indexer] = value instead\n",
            "\n",
            "See the caveats in the documentation: https://pandas.pydata.org/pandas-docs/stable/user_guide/indexing.html#returning-a-view-versus-a-copy\n",
            "  after removing the cwd from sys.path.\n"
          ],
          "name": "stderr"
        }
      ]
    }
  ]
}